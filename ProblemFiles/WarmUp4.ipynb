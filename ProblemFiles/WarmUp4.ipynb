{
 "cells": [
  {
   "cell_type": "code",
   "execution_count": null,
   "metadata": {},
   "outputs": [],
   "source": [
    "#CREDITS TO Savyakhosla. GeeksforGeeks. Using SVM to perform classification on a non-linear dataset.\n",
    "\n",
    "# importing libraries \n",
    "import numpy as np \n",
    "import matplotlib.pyplot as plt \n",
    "from sklearn.datasets import make_circles \n",
    "from mpl_toolkits.mplot3d import Axes3D \n",
    "  \n",
    "# generating data \n",
    "X, Y = make_circles(n_samples = 500, noise = 0.02) \n",
    "  \n",
    "# visualizing data \n",
    "plt.scatter(X[:, 0], X[:, 1], c = Y, marker = '.') \n",
    "plt.show() "
   ]
  },
  {
   "cell_type": "code",
   "execution_count": null,
   "metadata": {},
   "outputs": [],
   "source": [
    "# To apply SVM to classify the data, we should add a new dimension to X \n",
    "# 2D->3D\n",
    "X1 = X[:, 0].reshape((-1, 1)) \n",
    "X2 = X[:, 1].reshape((-1, 1)) \n",
    "X3 = (X1**2 + X2**2) \n",
    "X = np.hstack((X, X3)) \n",
    "  \n",
    "# visualizing data in higher dimension \n",
    "fig = plt.figure() \n",
    "axes = fig.add_subplot(111, projection = '3d') \n",
    "axes.scatter(X1, X2, X1**2 + X2**2, c = Y, depthshade = True) \n",
    "plt.show()"
   ]
  },
  {
   "cell_type": "code",
   "execution_count": null,
   "metadata": {},
   "outputs": [],
   "source": [
    "# Rather than adding a new feature manually to have a hyper-plane.\n",
    "# SVM can apply kernel trick to take low dimensional input space and transform it to a higher dimensional space\n",
    "\n",
    "from sklearn import svm \n",
    "  \n",
    "svc = svm.SVC(kernel = 'linear') \n",
    "svc.fit(X, Y) \n",
    "w = svc.coef_ \n",
    "b = svc.intercept_ \n",
    "  \n",
    "#TODO: plotting the separating hyperplane \n",
    "\n",
    "x1 = X[:, 0].reshape((-1, 1)) \n",
    "x2 = X[:, 1].reshape((-1, 1)) \n",
    "x1, x2 = np.meshgrid(x1, x2) \n",
    "\n",
    "#Complete the code here#\n",
    "#hint1: x3 = -(w1*x1 + w2*x2)/w3\n",
    "#hint2: w1 = w[0][0]\n",
    "#x3 = \n",
    "  \n",
    "fig = plt.figure() \n",
    "axes2 = fig.add_subplot(111, projection = '3d') \n",
    "axes2.scatter(X1, X2, X1**2 + X2**2, c = Y, depthshade = True) \n",
    "axes1 = fig.gca(projection = '3d') \n",
    "\n",
    "#Complete the code here#\n",
    "#axes1.plot_surface(, alpha = 0.01) \n",
    "\n",
    "plt.show() "
   ]
  },
  {
   "cell_type": "code",
   "execution_count": null,
   "metadata": {},
   "outputs": [],
   "source": []
  }
 ],
 "metadata": {
  "kernelspec": {
   "display_name": "Python 3",
   "language": "python",
   "name": "python3"
  },
  "language_info": {
   "codemirror_mode": {
    "name": "ipython",
    "version": 3
   },
   "file_extension": ".py",
   "mimetype": "text/x-python",
   "name": "python",
   "nbconvert_exporter": "python",
   "pygments_lexer": "ipython3",
   "version": "3.6.6"
  }
 },
 "nbformat": 4,
 "nbformat_minor": 4
}
